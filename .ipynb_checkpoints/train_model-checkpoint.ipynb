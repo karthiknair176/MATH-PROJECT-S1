{
 "cells": [
  {
   "cell_type": "code",
   "execution_count": 1,
   "metadata": {
    "id": "_MKDOOjfS9dP"
   },
   "outputs": [],
   "source": [
    "import numpy as np\n",
    "import os\n",
    "import matplotlib.pyplot as plt\n",
    "from imutils import paths\n",
    "\n",
    "from tensorflow.keras.applications import MobileNetV2\n",
    "from tensorflow.keras.layers import AveragePooling2D\n",
    "from tensorflow.keras.layers import Dropout\n",
    "from tensorflow.keras.layers import Flatten\n",
    "from tensorflow.keras.layers import Dense\n",
    "from tensorflow.keras.layers import Input\n",
    "from tensorflow.keras.models import Model\n",
    "from tensorflow.keras.optimizers import Adam\n",
    "from tensorflow.keras.applications.mobilenet_v2 import preprocess_input\n",
    "\n",
    "from tensorflow.keras.preprocessing.image import ImageDataGenerator\n",
    "\n",
    "from tensorflow.keras.preprocessing.image import img_to_array\n",
    "from tensorflow.keras.preprocessing.image import load_img\n",
    "from tensorflow.keras.utils import to_categorical\n",
    "from sklearn.preprocessing import LabelBinarizer\n",
    "from sklearn.model_selection import train_test_split\n",
    "from sklearn.metrics import classification_report"
   ]
  },
  {
   "cell_type": "code",
   "execution_count": 2,
   "metadata": {
    "id": "OeQn1lqGT3E2"
   },
   "outputs": [],
   "source": [
    "dataset=r'Mask Dataset'\n",
    "imagepath=list(paths.list_images(dataset))"
   ]
  },
  {
   "cell_type": "code",
   "execution_count": 3,
   "metadata": {
    "id": "pj-9ZP72UDO4"
   },
   "outputs": [],
   "source": [
    "data=[]\n",
    "labels=[]\n",
    "for i in imagepath:\n",
    "    label=i.split(os.path.sep)[-2]\n",
    "    labels.append(label)\n",
    "    image=load_img(i,target_size=(224,224))\n",
    "    image=img_to_array(image)\n",
    "    image=preprocess_input(image)\n",
    "    data.append(image)"
   ]
  },
  {
   "cell_type": "code",
   "execution_count": 4,
   "metadata": {
    "id": "srVPJ_tNUnQx"
   },
   "outputs": [],
   "source": [
    "data=np.array(data,dtype='float32')\n",
    "labels=np.array(labels)"
   ]
  },
  {
   "cell_type": "code",
   "execution_count": 5,
   "metadata": {
    "id": "UzBrM5lHUvG3"
   },
   "outputs": [],
   "source": [
    "labelb=LabelBinarizer()\n",
    "labels=labelb.fit_transform(labels)\n",
    "labels=to_categorical(labels)"
   ]
  },
  {
   "cell_type": "code",
   "execution_count": 6,
   "metadata": {
    "id": "Hx92uJgGUygm"
   },
   "outputs": [],
   "source": [
    "train_X,test_X,train_Y,test_Y=train_test_split(data,labels,test_size=0.20,random_state=10,stratify=labels)"
   ]
  },
  {
   "cell_type": "code",
   "execution_count": 7,
   "metadata": {
    "id": "v2F_w648U2uD"
   },
   "outputs": [],
   "source": [
    "aug=ImageDataGenerator(rotation_range=20,zoom_range=0.15,width_shift_range=0.2,height_shift_range=0.2,shear_range=0.15,horizontal_flip=True,vertical_flip=True,fill_mode='nearest')"
   ]
  },
  {
   "cell_type": "code",
   "execution_count": 8,
   "metadata": {
    "colab": {
     "base_uri": "https://localhost:8080/"
    },
    "id": "1u1y6rRWVTO5",
    "outputId": "8e1a262d-d0b7-467e-dc4d-92038faee6f8"
   },
   "outputs": [
    {
     "name": "stdout",
     "output_type": "stream",
     "text": [
      "WARNING:tensorflow:`input_shape` is undefined or non-square, or `rows` is not in [96, 128, 160, 192, 224]. Weights for input shape (224, 224) will be loaded as the default.\n",
      "Downloading data from https://storage.googleapis.com/tensorflow/keras-applications/mobilenet_v2/mobilenet_v2_weights_tf_dim_ordering_tf_kernels_1.0_224_no_top.h5\n",
      "9412608/9406464 [==============================] - ETA:  - 12s 1us/step\n",
      "9420800/9406464 [==============================] - 12s 1us/step\n"
     ]
    }
   ],
   "source": [
    "baseModel=MobileNetV2(weights='imagenet',include_top=False,input_tensor=Input(shape=(224,224,3)))"
   ]
  },
  {
   "cell_type": "code",
   "execution_count": 9,
   "metadata": {
    "id": "lenx4LzBVV9W"
   },
   "outputs": [],
   "source": [
    "headModel=baseModel.output\n",
    "headModel=AveragePooling2D(pool_size=(7,7))(headModel)\n",
    "headModel=Flatten(name='Flatten')(headModel)\n",
    "headModel=Dense(128,activation='relu')(headModel)\n",
    "headModel=Dropout(0.5)(headModel)\n",
    "headModel=Dense(2,activation='softmax')(headModel)\n",
    "\n",
    "model=Model(inputs=baseModel.input,outputs=headModel)"
   ]
  },
  {
   "cell_type": "code",
   "execution_count": 10,
   "metadata": {
    "id": "-OxHJF_0VdhK"
   },
   "outputs": [],
   "source": [
    "for layer in baseModel.layers:\n",
    "    layer.trainable=False"
   ]
  },
  {
   "cell_type": "code",
   "execution_count": 11,
   "metadata": {
    "colab": {
     "base_uri": "https://localhost:8080/"
    },
    "id": "hnHZSmAJVgdN",
    "outputId": "86310d06-8586-408f-cd03-9d22ab865a16"
   },
   "outputs": [
    {
     "name": "stderr",
     "output_type": "stream",
     "text": [
      "C:\\Users\\rarav\\AppData\\Roaming\\Python\\Python37\\site-packages\\keras\\optimizer_v2\\adam.py:105: UserWarning: The `lr` argument is deprecated, use `learning_rate` instead.\n",
      "  super(Adam, self).__init__(name, **kwargs)\n"
     ]
    },
    {
     "name": "stdout",
     "output_type": "stream",
     "text": [
      "Epoch 1/20\n",
      "91/91 [==============================] - 28s 286ms/step - loss: 0.2062 - accuracy: 0.9191 - val_loss: 0.0524 - val_accuracy: 0.9819\n",
      "Epoch 2/20\n",
      "91/91 [==============================] - 26s 283ms/step - loss: 0.0679 - accuracy: 0.9743 - val_loss: 0.0526 - val_accuracy: 0.9819\n",
      "Epoch 3/20\n",
      "91/91 [==============================] - 26s 283ms/step - loss: 0.0418 - accuracy: 0.9881 - val_loss: 0.0470 - val_accuracy: 0.9819\n",
      "Epoch 4/20\n",
      "91/91 [==============================] - 26s 288ms/step - loss: 0.0268 - accuracy: 0.9936 - val_loss: 0.0501 - val_accuracy: 0.9819\n",
      "Epoch 5/20\n",
      "91/91 [==============================] - 25s 277ms/step - loss: 0.0388 - accuracy: 0.9862 - val_loss: 0.0371 - val_accuracy: 0.9855\n",
      "Epoch 6/20\n",
      "91/91 [==============================] - 26s 289ms/step - loss: 0.0477 - accuracy: 0.9844 - val_loss: 0.0398 - val_accuracy: 0.9855\n",
      "Epoch 7/20\n",
      "91/91 [==============================] - 25s 269ms/step - loss: 0.0249 - accuracy: 0.9926 - val_loss: 0.0760 - val_accuracy: 0.9746\n",
      "Epoch 8/20\n",
      "91/91 [==============================] - 24s 268ms/step - loss: 0.0191 - accuracy: 0.9945 - val_loss: 0.0542 - val_accuracy: 0.9819\n",
      "Epoch 9/20\n",
      "91/91 [==============================] - 25s 273ms/step - loss: 0.0310 - accuracy: 0.9871 - val_loss: 0.0410 - val_accuracy: 0.9819\n",
      "Epoch 10/20\n",
      "91/91 [==============================] - 26s 286ms/step - loss: 0.0245 - accuracy: 0.9908 - val_loss: 0.0285 - val_accuracy: 0.9928\n",
      "Epoch 11/20\n",
      "91/91 [==============================] - 26s 289ms/step - loss: 0.0210 - accuracy: 0.9899 - val_loss: 0.0227 - val_accuracy: 0.9891\n",
      "Epoch 12/20\n",
      "91/91 [==============================] - 26s 283ms/step - loss: 0.0242 - accuracy: 0.9890 - val_loss: 0.0307 - val_accuracy: 0.9819\n",
      "Epoch 13/20\n",
      "91/91 [==============================] - 26s 285ms/step - loss: 0.0186 - accuracy: 0.9926 - val_loss: 0.0377 - val_accuracy: 0.9819\n",
      "Epoch 14/20\n",
      "91/91 [==============================] - 26s 289ms/step - loss: 0.0323 - accuracy: 0.9871 - val_loss: 0.0377 - val_accuracy: 0.9783\n",
      "Epoch 15/20\n",
      "91/91 [==============================] - 27s 291ms/step - loss: 0.0295 - accuracy: 0.9899 - val_loss: 0.0291 - val_accuracy: 0.9891\n",
      "Epoch 16/20\n",
      "91/91 [==============================] - 25s 276ms/step - loss: 0.0260 - accuracy: 0.9890 - val_loss: 0.0328 - val_accuracy: 0.9783\n",
      "Epoch 17/20\n",
      "91/91 [==============================] - 28s 307ms/step - loss: 0.0367 - accuracy: 0.9890 - val_loss: 0.0573 - val_accuracy: 0.9710\n",
      "Epoch 18/20\n",
      "91/91 [==============================] - 25s 277ms/step - loss: 0.0179 - accuracy: 0.9954 - val_loss: 0.0400 - val_accuracy: 0.9855\n",
      "Epoch 19/20\n",
      "91/91 [==============================] - 27s 298ms/step - loss: 0.0268 - accuracy: 0.9899 - val_loss: 0.0425 - val_accuracy: 0.9783\n",
      "Epoch 20/20\n",
      "91/91 [==============================] - 26s 284ms/step - loss: 0.0152 - accuracy: 0.9945 - val_loss: 0.0377 - val_accuracy: 0.9928\n"
     ]
    }
   ],
   "source": [
    "learning_rate=0.001\n",
    "Epochs=20\n",
    "Batch_size=12\n",
    "\n",
    "opt=Adam(lr=learning_rate,decay=learning_rate/Epochs)\n",
    "model.compile(loss='binary_crossentropy',optimizer=opt,metrics=['accuracy'])\n",
    "\n",
    "M=model.fit(\n",
    "    aug.flow(train_X,train_Y,batch_size=Batch_size),\n",
    "    steps_per_epoch=len(train_X)//Batch_size,\n",
    "    validation_data=(test_X,test_Y),\n",
    "    validation_steps=len(test_X//Batch_size),\n",
    "    epochs=Epochs\n",
    ")\n"
   ]
  },
  {
   "cell_type": "code",
   "execution_count": 12,
   "metadata": {},
   "outputs": [
    {
     "name": "stdout",
     "output_type": "stream",
     "text": [
      "              precision    recall  f1-score   support\n",
      "\n",
      "   with_mask       1.00      0.99      0.99       138\n",
      "without_mask       0.99      1.00      0.99       138\n",
      "\n",
      "    accuracy                           0.99       276\n",
      "   macro avg       0.99      0.99      0.99       276\n",
      "weighted avg       0.99      0.99      0.99       276\n",
      "\n"
     ]
    }
   ],
   "source": [
    "predict=model.predict(test_X,batch_size=Batch_size)\n",
    "predict=np.argmax(predict,axis=1)\n",
    "print(classification_report(test_Y.argmax(axis=1),predict,target_names=labelb.classes_))"
   ]
  },
  {
   "cell_type": "code",
   "execution_count": null,
   "metadata": {},
   "outputs": [],
   "source": []
  }
 ],
 "metadata": {
  "colab": {
   "name": "train_model.ipynb",
   "provenance": []
  },
  "kernelspec": {
   "display_name": "Python 3 (ipykernel)",
   "language": "python",
   "name": "python3"
  },
  "language_info": {
   "codemirror_mode": {
    "name": "ipython",
    "version": 3
   },
   "file_extension": ".py",
   "mimetype": "text/x-python",
   "name": "python",
   "nbconvert_exporter": "python",
   "pygments_lexer": "ipython3",
   "version": "3.7.0"
  }
 },
 "nbformat": 4,
 "nbformat_minor": 1
}
